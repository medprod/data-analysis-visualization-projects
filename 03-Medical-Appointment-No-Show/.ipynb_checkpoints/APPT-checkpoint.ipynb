{
 "cells": [
  {
   "cell_type": "markdown",
   "id": "9cac4b11-f741-4a83-a26d-c45846fa104e",
   "metadata": {},
   "source": [
    "####\n",
    "1. How often do men go to hospitals compared to women? Which of them is more likely to show up?\n",
    "2. Does recieving an SMS as a reminder affect whether or not a patient may show up? is it correlated with number of days before the appointment?\n",
    "3. Does having a scholarship affects showing up on a hospital appointment? What are the age groups affected by this?\n",
    "4. Does having certain deseases affect whather or not a patient may show up to their appointment? is it affected by gender?"
   ]
  },
  {
   "cell_type": "code",
   "execution_count": 2,
   "id": "04797c64-58f5-4fcd-9364-bbcdd2c60923",
   "metadata": {},
   "outputs": [],
   "source": [
    "import pandas as pd\n",
    "import numpy as np\n",
    "import matplotlib.pyplot as plt\n",
    "import seaborn as sns"
   ]
  },
  {
   "cell_type": "code",
   "execution_count": 3,
   "id": "c7234cb3-c682-4c39-81a5-06d510844292",
   "metadata": {},
   "outputs": [],
   "source": [
    "med = pd.read_csv('noshowappointments-kagglev2-may-2016.csv')"
   ]
  },
  {
   "cell_type": "code",
   "execution_count": 4,
   "id": "93e30955-fb72-4d67-aaec-e2ee4011001b",
   "metadata": {},
   "outputs": [
    {
     "data": {
      "text/html": [
       "<div>\n",
       "<style scoped>\n",
       "    .dataframe tbody tr th:only-of-type {\n",
       "        vertical-align: middle;\n",
       "    }\n",
       "\n",
       "    .dataframe tbody tr th {\n",
       "        vertical-align: top;\n",
       "    }\n",
       "\n",
       "    .dataframe thead th {\n",
       "        text-align: right;\n",
       "    }\n",
       "</style>\n",
       "<table border=\"1\" class=\"dataframe\">\n",
       "  <thead>\n",
       "    <tr style=\"text-align: right;\">\n",
       "      <th></th>\n",
       "      <th>PatientId</th>\n",
       "      <th>AppointmentID</th>\n",
       "      <th>Gender</th>\n",
       "      <th>ScheduledDay</th>\n",
       "      <th>AppointmentDay</th>\n",
       "      <th>Age</th>\n",
       "      <th>Neighbourhood</th>\n",
       "      <th>Scholarship</th>\n",
       "      <th>Hipertension</th>\n",
       "      <th>Diabetes</th>\n",
       "      <th>Alcoholism</th>\n",
       "      <th>Handcap</th>\n",
       "      <th>SMS_received</th>\n",
       "      <th>No-show</th>\n",
       "    </tr>\n",
       "  </thead>\n",
       "  <tbody>\n",
       "    <tr>\n",
       "      <th>0</th>\n",
       "      <td>2.987250e+13</td>\n",
       "      <td>5642903</td>\n",
       "      <td>F</td>\n",
       "      <td>2016-04-29T18:38:08Z</td>\n",
       "      <td>2016-04-29T00:00:00Z</td>\n",
       "      <td>62</td>\n",
       "      <td>JARDIM DA PENHA</td>\n",
       "      <td>0</td>\n",
       "      <td>1</td>\n",
       "      <td>0</td>\n",
       "      <td>0</td>\n",
       "      <td>0</td>\n",
       "      <td>0</td>\n",
       "      <td>No</td>\n",
       "    </tr>\n",
       "    <tr>\n",
       "      <th>1</th>\n",
       "      <td>5.589978e+14</td>\n",
       "      <td>5642503</td>\n",
       "      <td>M</td>\n",
       "      <td>2016-04-29T16:08:27Z</td>\n",
       "      <td>2016-04-29T00:00:00Z</td>\n",
       "      <td>56</td>\n",
       "      <td>JARDIM DA PENHA</td>\n",
       "      <td>0</td>\n",
       "      <td>0</td>\n",
       "      <td>0</td>\n",
       "      <td>0</td>\n",
       "      <td>0</td>\n",
       "      <td>0</td>\n",
       "      <td>No</td>\n",
       "    </tr>\n",
       "    <tr>\n",
       "      <th>2</th>\n",
       "      <td>4.262962e+12</td>\n",
       "      <td>5642549</td>\n",
       "      <td>F</td>\n",
       "      <td>2016-04-29T16:19:04Z</td>\n",
       "      <td>2016-04-29T00:00:00Z</td>\n",
       "      <td>62</td>\n",
       "      <td>MATA DA PRAIA</td>\n",
       "      <td>0</td>\n",
       "      <td>0</td>\n",
       "      <td>0</td>\n",
       "      <td>0</td>\n",
       "      <td>0</td>\n",
       "      <td>0</td>\n",
       "      <td>No</td>\n",
       "    </tr>\n",
       "    <tr>\n",
       "      <th>3</th>\n",
       "      <td>8.679512e+11</td>\n",
       "      <td>5642828</td>\n",
       "      <td>F</td>\n",
       "      <td>2016-04-29T17:29:31Z</td>\n",
       "      <td>2016-04-29T00:00:00Z</td>\n",
       "      <td>8</td>\n",
       "      <td>PONTAL DE CAMBURI</td>\n",
       "      <td>0</td>\n",
       "      <td>0</td>\n",
       "      <td>0</td>\n",
       "      <td>0</td>\n",
       "      <td>0</td>\n",
       "      <td>0</td>\n",
       "      <td>No</td>\n",
       "    </tr>\n",
       "    <tr>\n",
       "      <th>4</th>\n",
       "      <td>8.841186e+12</td>\n",
       "      <td>5642494</td>\n",
       "      <td>F</td>\n",
       "      <td>2016-04-29T16:07:23Z</td>\n",
       "      <td>2016-04-29T00:00:00Z</td>\n",
       "      <td>56</td>\n",
       "      <td>JARDIM DA PENHA</td>\n",
       "      <td>0</td>\n",
       "      <td>1</td>\n",
       "      <td>1</td>\n",
       "      <td>0</td>\n",
       "      <td>0</td>\n",
       "      <td>0</td>\n",
       "      <td>No</td>\n",
       "    </tr>\n",
       "  </tbody>\n",
       "</table>\n",
       "</div>"
      ],
      "text/plain": [
       "      PatientId  AppointmentID Gender          ScheduledDay  \\\n",
       "0  2.987250e+13        5642903      F  2016-04-29T18:38:08Z   \n",
       "1  5.589978e+14        5642503      M  2016-04-29T16:08:27Z   \n",
       "2  4.262962e+12        5642549      F  2016-04-29T16:19:04Z   \n",
       "3  8.679512e+11        5642828      F  2016-04-29T17:29:31Z   \n",
       "4  8.841186e+12        5642494      F  2016-04-29T16:07:23Z   \n",
       "\n",
       "         AppointmentDay  Age      Neighbourhood  Scholarship  Hipertension  \\\n",
       "0  2016-04-29T00:00:00Z   62    JARDIM DA PENHA            0             1   \n",
       "1  2016-04-29T00:00:00Z   56    JARDIM DA PENHA            0             0   \n",
       "2  2016-04-29T00:00:00Z   62      MATA DA PRAIA            0             0   \n",
       "3  2016-04-29T00:00:00Z    8  PONTAL DE CAMBURI            0             0   \n",
       "4  2016-04-29T00:00:00Z   56    JARDIM DA PENHA            0             1   \n",
       "\n",
       "   Diabetes  Alcoholism  Handcap  SMS_received No-show  \n",
       "0         0           0        0             0      No  \n",
       "1         0           0        0             0      No  \n",
       "2         0           0        0             0      No  \n",
       "3         0           0        0             0      No  \n",
       "4         1           0        0             0      No  "
      ]
     },
     "execution_count": 4,
     "metadata": {},
     "output_type": "execute_result"
    }
   ],
   "source": [
    "med.head()"
   ]
  },
  {
   "cell_type": "code",
   "execution_count": 5,
   "id": "474a352d-7704-419b-bef1-4d15dfd606f2",
   "metadata": {},
   "outputs": [
    {
     "data": {
      "text/plain": [
       "(110527, 14)"
      ]
     },
     "execution_count": 5,
     "metadata": {},
     "output_type": "execute_result"
    }
   ],
   "source": [
    "med.shape"
   ]
  },
  {
   "cell_type": "code",
   "execution_count": 6,
   "id": "b635c986-b807-4cf1-bc56-c90d8c256fce",
   "metadata": {},
   "outputs": [
    {
     "name": "stdout",
     "output_type": "stream",
     "text": [
      "<class 'pandas.core.frame.DataFrame'>\n",
      "RangeIndex: 110527 entries, 0 to 110526\n",
      "Data columns (total 14 columns):\n",
      " #   Column          Non-Null Count   Dtype  \n",
      "---  ------          --------------   -----  \n",
      " 0   PatientId       110527 non-null  float64\n",
      " 1   AppointmentID   110527 non-null  int64  \n",
      " 2   Gender          110527 non-null  object \n",
      " 3   ScheduledDay    110527 non-null  object \n",
      " 4   AppointmentDay  110527 non-null  object \n",
      " 5   Age             110527 non-null  int64  \n",
      " 6   Neighbourhood   110527 non-null  object \n",
      " 7   Scholarship     110527 non-null  int64  \n",
      " 8   Hipertension    110527 non-null  int64  \n",
      " 9   Diabetes        110527 non-null  int64  \n",
      " 10  Alcoholism      110527 non-null  int64  \n",
      " 11  Handcap         110527 non-null  int64  \n",
      " 12  SMS_received    110527 non-null  int64  \n",
      " 13  No-show         110527 non-null  object \n",
      "dtypes: float64(1), int64(8), object(5)\n",
      "memory usage: 11.8+ MB\n"
     ]
    }
   ],
   "source": [
    "med.info()"
   ]
  },
  {
   "cell_type": "markdown",
   "id": "b477ad5d-d32c-4035-ab0d-145a33194306",
   "metadata": {},
   "source": [
    "### Data Cleaning"
   ]
  },
  {
   "cell_type": "code",
   "execution_count": 8,
   "id": "a0ce2556-5290-4d2e-934e-186d597728b5",
   "metadata": {},
   "outputs": [
    {
     "data": {
      "text/plain": [
       "PatientId         0\n",
       "AppointmentID     0\n",
       "Gender            0\n",
       "ScheduledDay      0\n",
       "AppointmentDay    0\n",
       "Age               0\n",
       "Neighbourhood     0\n",
       "Scholarship       0\n",
       "Hipertension      0\n",
       "Diabetes          0\n",
       "Alcoholism        0\n",
       "Handcap           0\n",
       "SMS_received      0\n",
       "No-show           0\n",
       "dtype: int64"
      ]
     },
     "execution_count": 8,
     "metadata": {},
     "output_type": "execute_result"
    }
   ],
   "source": [
    "#no null values in dataset\n",
    "med.isna().sum()"
   ]
  },
  {
   "cell_type": "code",
   "execution_count": 9,
   "id": "ad14c604-2683-4429-b90b-4959d351414b",
   "metadata": {},
   "outputs": [
    {
     "data": {
      "text/plain": [
       "0"
      ]
     },
     "execution_count": 9,
     "metadata": {},
     "output_type": "execute_result"
    }
   ],
   "source": [
    "#no duplicate values\n",
    "med.duplicated().sum()"
   ]
  },
  {
   "cell_type": "markdown",
   "id": "15ab8308-7de0-4d3d-bb53-4262bf1c69b8",
   "metadata": {},
   "source": [
    "#### Cleaning Diseases Columns"
   ]
  },
  {
   "cell_type": "code",
   "execution_count": 11,
   "id": "d1de9b8d-b2cb-48c2-81ae-cfd610ee425c",
   "metadata": {},
   "outputs": [],
   "source": [
    "med['Hipertension'] = med['Hipertension'].map({1:'diagnosed', 0:'not diagnosed'})"
   ]
  },
  {
   "cell_type": "code",
   "execution_count": 12,
   "id": "68c8169a-a2e4-48f0-9102-98aff99a06ff",
   "metadata": {},
   "outputs": [],
   "source": [
    "med['Diabetes'] = med['Diabetes'].map({1:'diagnosed', 0:'not diagnosed'})\n",
    "med['Alcoholism'] = med['Alcoholism'].map({1:'diagnosed', 0:'not diagnosed'})\n",
    "med['Handcap'] = med['Handcap'].map({1:'diagnosed', 0:'not diagnosed'})"
   ]
  },
  {
   "cell_type": "code",
   "execution_count": 13,
   "id": "7d8c2d06-8f47-4525-b1a8-5823bbeaf1f1",
   "metadata": {},
   "outputs": [],
   "source": [
    "med['SMS_received'] = med['SMS_received'].map({1:'yes', 0:'no'})\n",
    "med['Scholarship'] = med['Scholarship'].map({1:'yes', 0:'no'})"
   ]
  },
  {
   "cell_type": "code",
   "execution_count": 14,
   "id": "e3903f37-df46-4c03-b8dd-61cffe51ef9a",
   "metadata": {},
   "outputs": [
    {
     "data": {
      "text/html": [
       "<div>\n",
       "<style scoped>\n",
       "    .dataframe tbody tr th:only-of-type {\n",
       "        vertical-align: middle;\n",
       "    }\n",
       "\n",
       "    .dataframe tbody tr th {\n",
       "        vertical-align: top;\n",
       "    }\n",
       "\n",
       "    .dataframe thead th {\n",
       "        text-align: right;\n",
       "    }\n",
       "</style>\n",
       "<table border=\"1\" class=\"dataframe\">\n",
       "  <thead>\n",
       "    <tr style=\"text-align: right;\">\n",
       "      <th></th>\n",
       "      <th>PatientId</th>\n",
       "      <th>AppointmentID</th>\n",
       "      <th>Gender</th>\n",
       "      <th>ScheduledDay</th>\n",
       "      <th>AppointmentDay</th>\n",
       "      <th>Age</th>\n",
       "      <th>Neighbourhood</th>\n",
       "      <th>Scholarship</th>\n",
       "      <th>Hipertension</th>\n",
       "      <th>Diabetes</th>\n",
       "      <th>Alcoholism</th>\n",
       "      <th>Handcap</th>\n",
       "      <th>SMS_received</th>\n",
       "      <th>No-show</th>\n",
       "    </tr>\n",
       "  </thead>\n",
       "  <tbody>\n",
       "    <tr>\n",
       "      <th>0</th>\n",
       "      <td>2.987250e+13</td>\n",
       "      <td>5642903</td>\n",
       "      <td>F</td>\n",
       "      <td>2016-04-29T18:38:08Z</td>\n",
       "      <td>2016-04-29T00:00:00Z</td>\n",
       "      <td>62</td>\n",
       "      <td>JARDIM DA PENHA</td>\n",
       "      <td>no</td>\n",
       "      <td>diagnosed</td>\n",
       "      <td>not diagnosed</td>\n",
       "      <td>not diagnosed</td>\n",
       "      <td>not diagnosed</td>\n",
       "      <td>no</td>\n",
       "      <td>No</td>\n",
       "    </tr>\n",
       "    <tr>\n",
       "      <th>1</th>\n",
       "      <td>5.589978e+14</td>\n",
       "      <td>5642503</td>\n",
       "      <td>M</td>\n",
       "      <td>2016-04-29T16:08:27Z</td>\n",
       "      <td>2016-04-29T00:00:00Z</td>\n",
       "      <td>56</td>\n",
       "      <td>JARDIM DA PENHA</td>\n",
       "      <td>no</td>\n",
       "      <td>not diagnosed</td>\n",
       "      <td>not diagnosed</td>\n",
       "      <td>not diagnosed</td>\n",
       "      <td>not diagnosed</td>\n",
       "      <td>no</td>\n",
       "      <td>No</td>\n",
       "    </tr>\n",
       "    <tr>\n",
       "      <th>2</th>\n",
       "      <td>4.262962e+12</td>\n",
       "      <td>5642549</td>\n",
       "      <td>F</td>\n",
       "      <td>2016-04-29T16:19:04Z</td>\n",
       "      <td>2016-04-29T00:00:00Z</td>\n",
       "      <td>62</td>\n",
       "      <td>MATA DA PRAIA</td>\n",
       "      <td>no</td>\n",
       "      <td>not diagnosed</td>\n",
       "      <td>not diagnosed</td>\n",
       "      <td>not diagnosed</td>\n",
       "      <td>not diagnosed</td>\n",
       "      <td>no</td>\n",
       "      <td>No</td>\n",
       "    </tr>\n",
       "    <tr>\n",
       "      <th>3</th>\n",
       "      <td>8.679512e+11</td>\n",
       "      <td>5642828</td>\n",
       "      <td>F</td>\n",
       "      <td>2016-04-29T17:29:31Z</td>\n",
       "      <td>2016-04-29T00:00:00Z</td>\n",
       "      <td>8</td>\n",
       "      <td>PONTAL DE CAMBURI</td>\n",
       "      <td>no</td>\n",
       "      <td>not diagnosed</td>\n",
       "      <td>not diagnosed</td>\n",
       "      <td>not diagnosed</td>\n",
       "      <td>not diagnosed</td>\n",
       "      <td>no</td>\n",
       "      <td>No</td>\n",
       "    </tr>\n",
       "    <tr>\n",
       "      <th>4</th>\n",
       "      <td>8.841186e+12</td>\n",
       "      <td>5642494</td>\n",
       "      <td>F</td>\n",
       "      <td>2016-04-29T16:07:23Z</td>\n",
       "      <td>2016-04-29T00:00:00Z</td>\n",
       "      <td>56</td>\n",
       "      <td>JARDIM DA PENHA</td>\n",
       "      <td>no</td>\n",
       "      <td>diagnosed</td>\n",
       "      <td>diagnosed</td>\n",
       "      <td>not diagnosed</td>\n",
       "      <td>not diagnosed</td>\n",
       "      <td>no</td>\n",
       "      <td>No</td>\n",
       "    </tr>\n",
       "  </tbody>\n",
       "</table>\n",
       "</div>"
      ],
      "text/plain": [
       "      PatientId  AppointmentID Gender          ScheduledDay  \\\n",
       "0  2.987250e+13        5642903      F  2016-04-29T18:38:08Z   \n",
       "1  5.589978e+14        5642503      M  2016-04-29T16:08:27Z   \n",
       "2  4.262962e+12        5642549      F  2016-04-29T16:19:04Z   \n",
       "3  8.679512e+11        5642828      F  2016-04-29T17:29:31Z   \n",
       "4  8.841186e+12        5642494      F  2016-04-29T16:07:23Z   \n",
       "\n",
       "         AppointmentDay  Age      Neighbourhood Scholarship   Hipertension  \\\n",
       "0  2016-04-29T00:00:00Z   62    JARDIM DA PENHA          no      diagnosed   \n",
       "1  2016-04-29T00:00:00Z   56    JARDIM DA PENHA          no  not diagnosed   \n",
       "2  2016-04-29T00:00:00Z   62      MATA DA PRAIA          no  not diagnosed   \n",
       "3  2016-04-29T00:00:00Z    8  PONTAL DE CAMBURI          no  not diagnosed   \n",
       "4  2016-04-29T00:00:00Z   56    JARDIM DA PENHA          no      diagnosed   \n",
       "\n",
       "        Diabetes     Alcoholism        Handcap SMS_received No-show  \n",
       "0  not diagnosed  not diagnosed  not diagnosed           no      No  \n",
       "1  not diagnosed  not diagnosed  not diagnosed           no      No  \n",
       "2  not diagnosed  not diagnosed  not diagnosed           no      No  \n",
       "3  not diagnosed  not diagnosed  not diagnosed           no      No  \n",
       "4      diagnosed  not diagnosed  not diagnosed           no      No  "
      ]
     },
     "execution_count": 14,
     "metadata": {},
     "output_type": "execute_result"
    }
   ],
   "source": [
    "med.head()"
   ]
  },
  {
   "cell_type": "markdown",
   "id": "7f16c99b-fb7d-4caf-a11b-ed2234dca95d",
   "metadata": {},
   "source": [
    "#### Cleaning Date Columns"
   ]
  },
  {
   "cell_type": "code",
   "execution_count": 16,
   "id": "ddd6982d-a6b3-4113-9f2f-98d263da249f",
   "metadata": {},
   "outputs": [],
   "source": [
    "med['ScheduledDay'] = pd.to_datetime(med['ScheduledDay'])\n",
    "med['ScheduledDay'] = med['ScheduledDay'].dt.date"
   ]
  },
  {
   "cell_type": "code",
   "execution_count": 17,
   "id": "a4ed36bf-b835-40cd-bf54-9041ded89135",
   "metadata": {},
   "outputs": [
    {
     "data": {
      "text/html": [
       "<div>\n",
       "<style scoped>\n",
       "    .dataframe tbody tr th:only-of-type {\n",
       "        vertical-align: middle;\n",
       "    }\n",
       "\n",
       "    .dataframe tbody tr th {\n",
       "        vertical-align: top;\n",
       "    }\n",
       "\n",
       "    .dataframe thead th {\n",
       "        text-align: right;\n",
       "    }\n",
       "</style>\n",
       "<table border=\"1\" class=\"dataframe\">\n",
       "  <thead>\n",
       "    <tr style=\"text-align: right;\">\n",
       "      <th></th>\n",
       "      <th>PatientId</th>\n",
       "      <th>AppointmentID</th>\n",
       "      <th>Gender</th>\n",
       "      <th>ScheduledDay</th>\n",
       "      <th>AppointmentDay</th>\n",
       "      <th>Age</th>\n",
       "      <th>Neighbourhood</th>\n",
       "      <th>Scholarship</th>\n",
       "      <th>Hipertension</th>\n",
       "      <th>Diabetes</th>\n",
       "      <th>Alcoholism</th>\n",
       "      <th>Handcap</th>\n",
       "      <th>SMS_received</th>\n",
       "      <th>No-show</th>\n",
       "    </tr>\n",
       "  </thead>\n",
       "  <tbody>\n",
       "    <tr>\n",
       "      <th>0</th>\n",
       "      <td>2.987250e+13</td>\n",
       "      <td>5642903</td>\n",
       "      <td>F</td>\n",
       "      <td>2016-04-29</td>\n",
       "      <td>2016-04-29</td>\n",
       "      <td>62</td>\n",
       "      <td>JARDIM DA PENHA</td>\n",
       "      <td>no</td>\n",
       "      <td>diagnosed</td>\n",
       "      <td>not diagnosed</td>\n",
       "      <td>not diagnosed</td>\n",
       "      <td>not diagnosed</td>\n",
       "      <td>no</td>\n",
       "      <td>No</td>\n",
       "    </tr>\n",
       "    <tr>\n",
       "      <th>1</th>\n",
       "      <td>5.589978e+14</td>\n",
       "      <td>5642503</td>\n",
       "      <td>M</td>\n",
       "      <td>2016-04-29</td>\n",
       "      <td>2016-04-29</td>\n",
       "      <td>56</td>\n",
       "      <td>JARDIM DA PENHA</td>\n",
       "      <td>no</td>\n",
       "      <td>not diagnosed</td>\n",
       "      <td>not diagnosed</td>\n",
       "      <td>not diagnosed</td>\n",
       "      <td>not diagnosed</td>\n",
       "      <td>no</td>\n",
       "      <td>No</td>\n",
       "    </tr>\n",
       "    <tr>\n",
       "      <th>2</th>\n",
       "      <td>4.262962e+12</td>\n",
       "      <td>5642549</td>\n",
       "      <td>F</td>\n",
       "      <td>2016-04-29</td>\n",
       "      <td>2016-04-29</td>\n",
       "      <td>62</td>\n",
       "      <td>MATA DA PRAIA</td>\n",
       "      <td>no</td>\n",
       "      <td>not diagnosed</td>\n",
       "      <td>not diagnosed</td>\n",
       "      <td>not diagnosed</td>\n",
       "      <td>not diagnosed</td>\n",
       "      <td>no</td>\n",
       "      <td>No</td>\n",
       "    </tr>\n",
       "    <tr>\n",
       "      <th>3</th>\n",
       "      <td>8.679512e+11</td>\n",
       "      <td>5642828</td>\n",
       "      <td>F</td>\n",
       "      <td>2016-04-29</td>\n",
       "      <td>2016-04-29</td>\n",
       "      <td>8</td>\n",
       "      <td>PONTAL DE CAMBURI</td>\n",
       "      <td>no</td>\n",
       "      <td>not diagnosed</td>\n",
       "      <td>not diagnosed</td>\n",
       "      <td>not diagnosed</td>\n",
       "      <td>not diagnosed</td>\n",
       "      <td>no</td>\n",
       "      <td>No</td>\n",
       "    </tr>\n",
       "    <tr>\n",
       "      <th>4</th>\n",
       "      <td>8.841186e+12</td>\n",
       "      <td>5642494</td>\n",
       "      <td>F</td>\n",
       "      <td>2016-04-29</td>\n",
       "      <td>2016-04-29</td>\n",
       "      <td>56</td>\n",
       "      <td>JARDIM DA PENHA</td>\n",
       "      <td>no</td>\n",
       "      <td>diagnosed</td>\n",
       "      <td>diagnosed</td>\n",
       "      <td>not diagnosed</td>\n",
       "      <td>not diagnosed</td>\n",
       "      <td>no</td>\n",
       "      <td>No</td>\n",
       "    </tr>\n",
       "  </tbody>\n",
       "</table>\n",
       "</div>"
      ],
      "text/plain": [
       "      PatientId  AppointmentID Gender ScheduledDay AppointmentDay  Age  \\\n",
       "0  2.987250e+13        5642903      F   2016-04-29     2016-04-29   62   \n",
       "1  5.589978e+14        5642503      M   2016-04-29     2016-04-29   56   \n",
       "2  4.262962e+12        5642549      F   2016-04-29     2016-04-29   62   \n",
       "3  8.679512e+11        5642828      F   2016-04-29     2016-04-29    8   \n",
       "4  8.841186e+12        5642494      F   2016-04-29     2016-04-29   56   \n",
       "\n",
       "       Neighbourhood Scholarship   Hipertension       Diabetes     Alcoholism  \\\n",
       "0    JARDIM DA PENHA          no      diagnosed  not diagnosed  not diagnosed   \n",
       "1    JARDIM DA PENHA          no  not diagnosed  not diagnosed  not diagnosed   \n",
       "2      MATA DA PRAIA          no  not diagnosed  not diagnosed  not diagnosed   \n",
       "3  PONTAL DE CAMBURI          no  not diagnosed  not diagnosed  not diagnosed   \n",
       "4    JARDIM DA PENHA          no      diagnosed      diagnosed  not diagnosed   \n",
       "\n",
       "         Handcap SMS_received No-show  \n",
       "0  not diagnosed           no      No  \n",
       "1  not diagnosed           no      No  \n",
       "2  not diagnosed           no      No  \n",
       "3  not diagnosed           no      No  \n",
       "4  not diagnosed           no      No  "
      ]
     },
     "execution_count": 17,
     "metadata": {},
     "output_type": "execute_result"
    }
   ],
   "source": [
    "med['AppointmentDay'] = pd.to_datetime(med['AppointmentDay'])\n",
    "med['AppointmentDay'] = med['AppointmentDay'].dt.date\n",
    "med.head()                                     "
   ]
  },
  {
   "cell_type": "markdown",
   "id": "18407177-fab5-4801-b53c-d6501de1f8f4",
   "metadata": {},
   "source": [
    "#### Age Column had negative value"
   ]
  },
  {
   "cell_type": "code",
   "execution_count": 19,
   "id": "bcd3ca02-0685-44e6-8b33-efcc168cab20",
   "metadata": {},
   "outputs": [],
   "source": [
    "med.drop(med[med['Age']<0].index, inplace=True)"
   ]
  },
  {
   "cell_type": "code",
   "execution_count": 20,
   "id": "6f92727f-4417-4a2b-9dcf-50d9b6086537",
   "metadata": {},
   "outputs": [
    {
     "data": {
      "text/plain": [
       "Age\n",
       "0      3539\n",
       "1      2273\n",
       "52     1746\n",
       "49     1652\n",
       "53     1651\n",
       "       ... \n",
       "98        6\n",
       "115       5\n",
       "100       4\n",
       "102       2\n",
       "99        1\n",
       "Name: count, Length: 103, dtype: int64"
      ]
     },
     "execution_count": 20,
     "metadata": {},
     "output_type": "execute_result"
    }
   ],
   "source": [
    "med['Age'].value_counts()"
   ]
  },
  {
   "cell_type": "markdown",
   "id": "9a0aa78a-1601-425a-a555-bedb9dc1fde3",
   "metadata": {},
   "source": [
    "#### Done Appointments"
   ]
  },
  {
   "cell_type": "code",
   "execution_count": 23,
   "id": "773de809-fe90-4d37-84b8-ef1f07c6a36a",
   "metadata": {},
   "outputs": [],
   "source": [
    "med['AppointmentDay'] = pd.to_datetime(med['AppointmentDay'])\n",
    "med['ScheduledDay'] = pd.to_datetime(med['ScheduledDay'])\n",
    "med['due days'] = (med['AppointmentDay']-med['ScheduledDay']).dt.days"
   ]
  },
  {
   "cell_type": "code",
   "execution_count": 26,
   "id": "c8fa6688-3238-47a5-81a2-86485c160bed",
   "metadata": {},
   "outputs": [
    {
     "data": {
      "text/html": [
       "<div>\n",
       "<style scoped>\n",
       "    .dataframe tbody tr th:only-of-type {\n",
       "        vertical-align: middle;\n",
       "    }\n",
       "\n",
       "    .dataframe tbody tr th {\n",
       "        vertical-align: top;\n",
       "    }\n",
       "\n",
       "    .dataframe thead th {\n",
       "        text-align: right;\n",
       "    }\n",
       "</style>\n",
       "<table border=\"1\" class=\"dataframe\">\n",
       "  <thead>\n",
       "    <tr style=\"text-align: right;\">\n",
       "      <th></th>\n",
       "      <th>PatientId</th>\n",
       "      <th>AppointmentID</th>\n",
       "      <th>Gender</th>\n",
       "      <th>ScheduledDay</th>\n",
       "      <th>AppointmentDay</th>\n",
       "      <th>Age</th>\n",
       "      <th>Neighbourhood</th>\n",
       "      <th>Scholarship</th>\n",
       "      <th>Hipertension</th>\n",
       "      <th>Diabetes</th>\n",
       "      <th>Alcoholism</th>\n",
       "      <th>Handcap</th>\n",
       "      <th>SMS_received</th>\n",
       "      <th>No-show</th>\n",
       "      <th>due days</th>\n",
       "    </tr>\n",
       "  </thead>\n",
       "  <tbody>\n",
       "    <tr>\n",
       "      <th>0</th>\n",
       "      <td>2.987250e+13</td>\n",
       "      <td>5642903</td>\n",
       "      <td>F</td>\n",
       "      <td>2016-04-29</td>\n",
       "      <td>2016-04-29</td>\n",
       "      <td>62</td>\n",
       "      <td>JARDIM DA PENHA</td>\n",
       "      <td>no</td>\n",
       "      <td>diagnosed</td>\n",
       "      <td>not diagnosed</td>\n",
       "      <td>not diagnosed</td>\n",
       "      <td>not diagnosed</td>\n",
       "      <td>no</td>\n",
       "      <td>No</td>\n",
       "      <td>0</td>\n",
       "    </tr>\n",
       "    <tr>\n",
       "      <th>1</th>\n",
       "      <td>5.589978e+14</td>\n",
       "      <td>5642503</td>\n",
       "      <td>M</td>\n",
       "      <td>2016-04-29</td>\n",
       "      <td>2016-04-29</td>\n",
       "      <td>56</td>\n",
       "      <td>JARDIM DA PENHA</td>\n",
       "      <td>no</td>\n",
       "      <td>not diagnosed</td>\n",
       "      <td>not diagnosed</td>\n",
       "      <td>not diagnosed</td>\n",
       "      <td>not diagnosed</td>\n",
       "      <td>no</td>\n",
       "      <td>No</td>\n",
       "      <td>0</td>\n",
       "    </tr>\n",
       "    <tr>\n",
       "      <th>2</th>\n",
       "      <td>4.262962e+12</td>\n",
       "      <td>5642549</td>\n",
       "      <td>F</td>\n",
       "      <td>2016-04-29</td>\n",
       "      <td>2016-04-29</td>\n",
       "      <td>62</td>\n",
       "      <td>MATA DA PRAIA</td>\n",
       "      <td>no</td>\n",
       "      <td>not diagnosed</td>\n",
       "      <td>not diagnosed</td>\n",
       "      <td>not diagnosed</td>\n",
       "      <td>not diagnosed</td>\n",
       "      <td>no</td>\n",
       "      <td>No</td>\n",
       "      <td>0</td>\n",
       "    </tr>\n",
       "    <tr>\n",
       "      <th>3</th>\n",
       "      <td>8.679512e+11</td>\n",
       "      <td>5642828</td>\n",
       "      <td>F</td>\n",
       "      <td>2016-04-29</td>\n",
       "      <td>2016-04-29</td>\n",
       "      <td>8</td>\n",
       "      <td>PONTAL DE CAMBURI</td>\n",
       "      <td>no</td>\n",
       "      <td>not diagnosed</td>\n",
       "      <td>not diagnosed</td>\n",
       "      <td>not diagnosed</td>\n",
       "      <td>not diagnosed</td>\n",
       "      <td>no</td>\n",
       "      <td>No</td>\n",
       "      <td>0</td>\n",
       "    </tr>\n",
       "    <tr>\n",
       "      <th>4</th>\n",
       "      <td>8.841186e+12</td>\n",
       "      <td>5642494</td>\n",
       "      <td>F</td>\n",
       "      <td>2016-04-29</td>\n",
       "      <td>2016-04-29</td>\n",
       "      <td>56</td>\n",
       "      <td>JARDIM DA PENHA</td>\n",
       "      <td>no</td>\n",
       "      <td>diagnosed</td>\n",
       "      <td>diagnosed</td>\n",
       "      <td>not diagnosed</td>\n",
       "      <td>not diagnosed</td>\n",
       "      <td>no</td>\n",
       "      <td>No</td>\n",
       "      <td>0</td>\n",
       "    </tr>\n",
       "  </tbody>\n",
       "</table>\n",
       "</div>"
      ],
      "text/plain": [
       "      PatientId  AppointmentID Gender ScheduledDay AppointmentDay  Age  \\\n",
       "0  2.987250e+13        5642903      F   2016-04-29     2016-04-29   62   \n",
       "1  5.589978e+14        5642503      M   2016-04-29     2016-04-29   56   \n",
       "2  4.262962e+12        5642549      F   2016-04-29     2016-04-29   62   \n",
       "3  8.679512e+11        5642828      F   2016-04-29     2016-04-29    8   \n",
       "4  8.841186e+12        5642494      F   2016-04-29     2016-04-29   56   \n",
       "\n",
       "       Neighbourhood Scholarship   Hipertension       Diabetes     Alcoholism  \\\n",
       "0    JARDIM DA PENHA          no      diagnosed  not diagnosed  not diagnosed   \n",
       "1    JARDIM DA PENHA          no  not diagnosed  not diagnosed  not diagnosed   \n",
       "2      MATA DA PRAIA          no  not diagnosed  not diagnosed  not diagnosed   \n",
       "3  PONTAL DE CAMBURI          no  not diagnosed  not diagnosed  not diagnosed   \n",
       "4    JARDIM DA PENHA          no      diagnosed      diagnosed  not diagnosed   \n",
       "\n",
       "         Handcap SMS_received No-show  due days  \n",
       "0  not diagnosed           no      No         0  \n",
       "1  not diagnosed           no      No         0  \n",
       "2  not diagnosed           no      No         0  \n",
       "3  not diagnosed           no      No         0  \n",
       "4  not diagnosed           no      No         0  "
      ]
     },
     "execution_count": 26,
     "metadata": {},
     "output_type": "execute_result"
    }
   ],
   "source": [
    "med.head()"
   ]
  },
  {
   "cell_type": "code",
   "execution_count": 32,
   "id": "a42cdb76-3f57-4aaf-98ab-f25f9208dc7a",
   "metadata": {},
   "outputs": [
    {
     "data": {
      "text/plain": [
       "array([  0,   2,   3,   1,   4,   9,  29,  10,  23,  11,  18,  17,  14,\n",
       "        28,  24,  21,  15,  16,  22,  43,  30,  31,  42,  32,  56,  45,\n",
       "        46,  39,  37,  38,  44,  50,  60,  52,  53,  65,  67,  91,  66,\n",
       "        84,  78,  87, 115, 109,  63,  70,  72,  57,  58,  51,  59,  41,\n",
       "        49,  73,  64,  20,  33,  34,   6,  35,  36,  12,  13,  40,  47,\n",
       "         8,   5,   7,  25,  26,  48,  27,  19,  61,  55,  62, 176,  54,\n",
       "        77,  69,  83,  76,  89,  81, 103,  79,  68,  75,  85, 112,  -1,\n",
       "        80,  86,  98,  94, 142, 155, 162, 169, 104, 133, 125,  96,  88,\n",
       "        90, 151, 126, 127, 111, 119,  74,  71,  82, 108, 110, 102, 122,\n",
       "       101, 105,  92,  97,  93, 107,  95,  -6, 139, 132, 179, 117, 146,\n",
       "       123])"
      ]
     },
     "execution_count": 32,
     "metadata": {},
     "output_type": "execute_result"
    }
   ],
   "source": [
    "med['due days'].unique()"
   ]
  },
  {
   "cell_type": "code",
   "execution_count": 37,
   "id": "ee2ef98f-1cb2-4134-9a28-970b0255c7ac",
   "metadata": {},
   "outputs": [],
   "source": [
    "#drop negative values\n",
    "med.drop(med[med['due days']<1].index, inplace=True)"
   ]
  },
  {
   "cell_type": "code",
   "execution_count": 43,
   "id": "1587a16d-fb50-4096-86dd-5485de82333b",
   "metadata": {},
   "outputs": [
    {
     "data": {
      "text/plain": [
       "count    71959.000000\n",
       "mean        15.642018\n",
       "std         16.494334\n",
       "min          1.000000\n",
       "25%          4.000000\n",
       "50%          9.000000\n",
       "75%         22.000000\n",
       "max        179.000000\n",
       "Name: due days, dtype: float64"
      ]
     },
     "execution_count": 43,
     "metadata": {},
     "output_type": "execute_result"
    }
   ],
   "source": [
    "med['due days'].describe()"
   ]
  },
  {
   "cell_type": "code",
   "execution_count": 46,
   "id": "3d478ff6-25fb-4f4d-898b-1511a57f1130",
   "metadata": {},
   "outputs": [
    {
     "name": "stdout",
     "output_type": "stream",
     "text": [
      "<class 'pandas.core.frame.DataFrame'>\n",
      "Index: 71959 entries, 5 to 110526\n",
      "Data columns (total 15 columns):\n",
      " #   Column          Non-Null Count  Dtype         \n",
      "---  ------          --------------  -----         \n",
      " 0   PatientId       71959 non-null  float64       \n",
      " 1   AppointmentID   71959 non-null  int64         \n",
      " 2   Gender          71959 non-null  object        \n",
      " 3   ScheduledDay    71959 non-null  datetime64[ns]\n",
      " 4   AppointmentDay  71959 non-null  datetime64[ns]\n",
      " 5   Age             71959 non-null  int64         \n",
      " 6   Neighbourhood   71959 non-null  object        \n",
      " 7   Scholarship     71959 non-null  object        \n",
      " 8   Hipertension    71959 non-null  object        \n",
      " 9   Diabetes        71959 non-null  object        \n",
      " 10  Alcoholism      71959 non-null  object        \n",
      " 11  Handcap         71837 non-null  object        \n",
      " 12  SMS_received    71959 non-null  object        \n",
      " 13  No-show         71959 non-null  object        \n",
      " 14  due days        71959 non-null  int64         \n",
      "dtypes: datetime64[ns](2), float64(1), int64(3), object(9)\n",
      "memory usage: 8.8+ MB\n"
     ]
    }
   ],
   "source": [
    "med.info()"
   ]
  },
  {
   "cell_type": "markdown",
   "id": "04765e9b-e9ea-4fc3-a205-389b3a3dd4c9",
   "metadata": {},
   "source": [
    "#### Drop Unnecessary Columns"
   ]
  },
  {
   "cell_type": "code",
   "execution_count": 50,
   "id": "f8509820-1737-4717-9d9a-c89048d1af5d",
   "metadata": {},
   "outputs": [],
   "source": [
    "med.drop(columns=['AppointmentID'], axis=1, inplace=True)"
   ]
  },
  {
   "cell_type": "code",
   "execution_count": 52,
   "id": "ea661119-ab14-435e-a920-c09726f39eb0",
   "metadata": {},
   "outputs": [],
   "source": [
    "#dropping duplicates to treate patientId as a unique id.\n",
    "med.drop_duplicates(subset=['PatientId'], keep='first', inplace=True)"
   ]
  },
  {
   "cell_type": "code",
   "execution_count": 54,
   "id": "0cf932bd-c103-4ffd-b9cd-58cde90f9840",
   "metadata": {},
   "outputs": [
    {
     "data": {
      "text/plain": [
       "45840"
      ]
     },
     "execution_count": 54,
     "metadata": {},
     "output_type": "execute_result"
    }
   ],
   "source": [
    "med['PatientId'].nunique()"
   ]
  },
  {
   "cell_type": "code",
   "execution_count": 56,
   "id": "36a7ddc5-57d5-4896-82ed-bb9f52c78e61",
   "metadata": {},
   "outputs": [
    {
     "data": {
      "text/plain": [
       "(45840, 14)"
      ]
     },
     "execution_count": 56,
     "metadata": {},
     "output_type": "execute_result"
    }
   ],
   "source": [
    "med.shape"
   ]
  },
  {
   "cell_type": "markdown",
   "id": "2e1b1730-999a-4a8e-ad78-8dcd021f8a77",
   "metadata": {},
   "source": [
    "####\n",
    "1. How often do men go to hospitals compared to women? Which of them is more likely to show up?\n",
    "2. Does recieving an SMS as a reminder affect whether or not a patient may show up? is it correlated with number of days before the appointment?\n",
    "3. Does having a scholarship affects showing up on a hospital appointment? What are the age groups affected by this?\n",
    "4. Does having certain deseases affect whather or not a patient may show up to their appointment? is it affected by gender?"
   ]
  },
  {
   "cell_type": "markdown",
   "id": "c017e8f3-6f5d-4edd-b00e-3a93b41e9b6b",
   "metadata": {},
   "source": [
    "### Exploratory Analysis"
   ]
  },
  {
   "cell_type": "code",
   "execution_count": 60,
   "id": "49d7a003-653d-45da-9099-ed2faa49a1c5",
   "metadata": {},
   "outputs": [
    {
     "data": {
      "text/html": [
       "<div>\n",
       "<style scoped>\n",
       "    .dataframe tbody tr th:only-of-type {\n",
       "        vertical-align: middle;\n",
       "    }\n",
       "\n",
       "    .dataframe tbody tr th {\n",
       "        vertical-align: top;\n",
       "    }\n",
       "\n",
       "    .dataframe thead th {\n",
       "        text-align: right;\n",
       "    }\n",
       "</style>\n",
       "<table border=\"1\" class=\"dataframe\">\n",
       "  <thead>\n",
       "    <tr style=\"text-align: right;\">\n",
       "      <th></th>\n",
       "      <th>PatientId</th>\n",
       "      <th>Gender</th>\n",
       "      <th>ScheduledDay</th>\n",
       "      <th>AppointmentDay</th>\n",
       "      <th>Age</th>\n",
       "      <th>Neighbourhood</th>\n",
       "      <th>Scholarship</th>\n",
       "      <th>Hipertension</th>\n",
       "      <th>Diabetes</th>\n",
       "      <th>Alcoholism</th>\n",
       "      <th>Handcap</th>\n",
       "      <th>SMS_received</th>\n",
       "      <th>No-show</th>\n",
       "      <th>due days</th>\n",
       "    </tr>\n",
       "  </thead>\n",
       "  <tbody>\n",
       "    <tr>\n",
       "      <th>5</th>\n",
       "      <td>9.598513e+13</td>\n",
       "      <td>F</td>\n",
       "      <td>2016-04-27</td>\n",
       "      <td>2016-04-29</td>\n",
       "      <td>76</td>\n",
       "      <td>REPÚBLICA</td>\n",
       "      <td>no</td>\n",
       "      <td>diagnosed</td>\n",
       "      <td>not diagnosed</td>\n",
       "      <td>not diagnosed</td>\n",
       "      <td>not diagnosed</td>\n",
       "      <td>no</td>\n",
       "      <td>No</td>\n",
       "      <td>2</td>\n",
       "    </tr>\n",
       "    <tr>\n",
       "      <th>6</th>\n",
       "      <td>7.336882e+14</td>\n",
       "      <td>F</td>\n",
       "      <td>2016-04-27</td>\n",
       "      <td>2016-04-29</td>\n",
       "      <td>23</td>\n",
       "      <td>GOIABEIRAS</td>\n",
       "      <td>no</td>\n",
       "      <td>not diagnosed</td>\n",
       "      <td>not diagnosed</td>\n",
       "      <td>not diagnosed</td>\n",
       "      <td>not diagnosed</td>\n",
       "      <td>no</td>\n",
       "      <td>Yes</td>\n",
       "      <td>2</td>\n",
       "    </tr>\n",
       "    <tr>\n",
       "      <th>7</th>\n",
       "      <td>3.449833e+12</td>\n",
       "      <td>F</td>\n",
       "      <td>2016-04-27</td>\n",
       "      <td>2016-04-29</td>\n",
       "      <td>39</td>\n",
       "      <td>GOIABEIRAS</td>\n",
       "      <td>no</td>\n",
       "      <td>not diagnosed</td>\n",
       "      <td>not diagnosed</td>\n",
       "      <td>not diagnosed</td>\n",
       "      <td>not diagnosed</td>\n",
       "      <td>no</td>\n",
       "      <td>Yes</td>\n",
       "      <td>2</td>\n",
       "    </tr>\n",
       "    <tr>\n",
       "      <th>9</th>\n",
       "      <td>7.812456e+13</td>\n",
       "      <td>F</td>\n",
       "      <td>2016-04-27</td>\n",
       "      <td>2016-04-29</td>\n",
       "      <td>19</td>\n",
       "      <td>CONQUISTA</td>\n",
       "      <td>no</td>\n",
       "      <td>not diagnosed</td>\n",
       "      <td>not diagnosed</td>\n",
       "      <td>not diagnosed</td>\n",
       "      <td>not diagnosed</td>\n",
       "      <td>no</td>\n",
       "      <td>No</td>\n",
       "      <td>2</td>\n",
       "    </tr>\n",
       "    <tr>\n",
       "      <th>10</th>\n",
       "      <td>7.345362e+14</td>\n",
       "      <td>F</td>\n",
       "      <td>2016-04-27</td>\n",
       "      <td>2016-04-29</td>\n",
       "      <td>30</td>\n",
       "      <td>NOVA PALESTINA</td>\n",
       "      <td>no</td>\n",
       "      <td>not diagnosed</td>\n",
       "      <td>not diagnosed</td>\n",
       "      <td>not diagnosed</td>\n",
       "      <td>not diagnosed</td>\n",
       "      <td>no</td>\n",
       "      <td>No</td>\n",
       "      <td>2</td>\n",
       "    </tr>\n",
       "  </tbody>\n",
       "</table>\n",
       "</div>"
      ],
      "text/plain": [
       "       PatientId Gender ScheduledDay AppointmentDay  Age   Neighbourhood  \\\n",
       "5   9.598513e+13      F   2016-04-27     2016-04-29   76       REPÚBLICA   \n",
       "6   7.336882e+14      F   2016-04-27     2016-04-29   23      GOIABEIRAS   \n",
       "7   3.449833e+12      F   2016-04-27     2016-04-29   39      GOIABEIRAS   \n",
       "9   7.812456e+13      F   2016-04-27     2016-04-29   19       CONQUISTA   \n",
       "10  7.345362e+14      F   2016-04-27     2016-04-29   30  NOVA PALESTINA   \n",
       "\n",
       "   Scholarship   Hipertension       Diabetes     Alcoholism        Handcap  \\\n",
       "5           no      diagnosed  not diagnosed  not diagnosed  not diagnosed   \n",
       "6           no  not diagnosed  not diagnosed  not diagnosed  not diagnosed   \n",
       "7           no  not diagnosed  not diagnosed  not diagnosed  not diagnosed   \n",
       "9           no  not diagnosed  not diagnosed  not diagnosed  not diagnosed   \n",
       "10          no  not diagnosed  not diagnosed  not diagnosed  not diagnosed   \n",
       "\n",
       "   SMS_received No-show  due days  \n",
       "5            no      No         2  \n",
       "6            no     Yes         2  \n",
       "7            no     Yes         2  \n",
       "9            no      No         2  \n",
       "10           no      No         2  "
      ]
     },
     "execution_count": 60,
     "metadata": {},
     "output_type": "execute_result"
    }
   ],
   "source": [
    "med.head()"
   ]
  },
  {
   "cell_type": "markdown",
   "id": "153cdd7d-b3e1-4491-ad7b-b235c2cb9ab3",
   "metadata": {},
   "source": [
    "#### 1. How often do men go to hospitals compared to women? Which of them is more likely to show up?\n",
    "Women go to hospitals more than men. Women are more likely to show up to an appointment as 71.58% of total women who had appointments showed up while 70.96% of men who has appointments showed up to theirs."
   ]
  },
  {
   "cell_type": "code",
   "execution_count": 63,
   "id": "70aba1c1-8aec-43fc-adea-a1a6dc3acbae",
   "metadata": {},
   "outputs": [
    {
     "data": {
      "text/plain": [
       "Gender\n",
       "F    30058\n",
       "M    15782\n",
       "Name: PatientId, dtype: int64"
      ]
     },
     "execution_count": 63,
     "metadata": {},
     "output_type": "execute_result"
    }
   ],
   "source": [
    "gender_count = med.groupby('Gender')['PatientId'].count()\n",
    "gender_count"
   ]
  },
  {
   "cell_type": "code",
   "execution_count": 65,
   "id": "73066197-fd3f-4b55-9ede-ddcb43ff89b5",
   "metadata": {},
   "outputs": [
    {
     "data": {
      "text/plain": [
       "Gender  No-show\n",
       "F       No         21517\n",
       "        Yes         8541\n",
       "M       No         11199\n",
       "        Yes         4583\n",
       "Name: PatientId, dtype: int64"
      ]
     },
     "execution_count": 65,
     "metadata": {},
     "output_type": "execute_result"
    }
   ],
   "source": [
    "med.groupby(['Gender','No-show'])['PatientId'].count()"
   ]
  },
  {
   "cell_type": "code",
   "execution_count": 67,
   "id": "4e0bd0c6-64a9-40d3-97cb-68e5379db520",
   "metadata": {},
   "outputs": [
    {
     "data": {
      "text/plain": [
       "(30058, 15782)"
      ]
     },
     "execution_count": 67,
     "metadata": {},
     "output_type": "execute_result"
    }
   ],
   "source": [
    "#total number of women and men that showed up\n",
    "total_women = med[med['Gender']=='F']['PatientId'].count()\n",
    "total_men =  med[med['Gender']=='M']['PatientId'].count()\n",
    "total_women, total_men"
   ]
  },
  {
   "cell_type": "code",
   "execution_count": 69,
   "id": "89d7ea66-95ec-4825-9914-31541ddcdb88",
   "metadata": {},
   "outputs": [],
   "source": [
    "yes_women = med[(med['No-show']=='Yes') & (med['Gender']=='F')]['PatientId'].count()\n",
    "yes_men = med[(med['No-show']=='Yes') & (med['Gender']=='M')]['PatientId'].count()"
   ]
  },
  {
   "cell_type": "code",
   "execution_count": 71,
   "id": "f7b467a3-a088-4dfb-acdf-ce6dba27c134",
   "metadata": {},
   "outputs": [
    {
     "name": "stdout",
     "output_type": "stream",
     "text": [
      "Percent of women who did not show up: 28.42 %\n",
      "Percent of men who did not show up: 29.04 %\n"
     ]
    }
   ],
   "source": [
    "#percentage of women to show up\n",
    "percent_women = round((yes_women/total_women) * 100, 2)\n",
    "\n",
    "#percentage of men to show up\n",
    "percent_men = round((yes_men/total_men) * 100, 2)\n",
    "\n",
    "print(\"Percent of women who did not show up:\", percent_women, \"%\")\n",
    "print(\"Percent of men who did not show up:\", percent_men, \"%\")"
   ]
  },
  {
   "cell_type": "code",
   "execution_count": 73,
   "id": "b33b4ac4-0b19-4dbe-8891-a72504ed66f3",
   "metadata": {},
   "outputs": [
    {
     "name": "stdout",
     "output_type": "stream",
     "text": [
      "Percent of women who show up: 71.58 %\n",
      "Percent of men who show up: 70.96 %\n"
     ]
    }
   ],
   "source": [
    "no_women = med[(med['No-show']=='No') & (med['Gender']=='F')]['PatientId'].count()\n",
    "no_men = med[(med['No-show']=='No') & (med['Gender']=='M')]['PatientId'].count()\n",
    "\n",
    "#percentage of women to show up\n",
    "percentno_women = round((no_women/total_women) * 100, 2)\n",
    "\n",
    "#percentage of men to show up\n",
    "percentno_men = round((no_men/total_men) * 100, 2)\n",
    "\n",
    "print(\"Percent of women who show up:\", percentno_women, \"%\")\n",
    "print(\"Percent of men who show up:\", percentno_men, \"%\")"
   ]
  },
  {
   "cell_type": "code",
   "execution_count": 150,
   "id": "c73687e5-1fb2-4d83-b4c7-bc30fd41f509",
   "metadata": {},
   "outputs": [
    {
     "data": {
      "image/png": "[encoded data removed]",
      "text/plain": [
       "<Figure size 500x300 with 1 Axes>"
      ]
     },
     "metadata": {},
     "output_type": "display_data"
    }
   ],
   "source": [
    "#bar graph to show how often do men go to hospitals compared to women (simple count plot)\n",
    "plt.figure(figsize=(5,3))\n",
    "gender_count.plot(kind='bar', color='orange', grid=True)\n",
    "plt.title('Gender Distribution in Dataset')\n",
    "plt.xlabel('Gender')\n",
    "plt.ylabel('Total Count')\n",
    "plt.xticks(rotation=360)\n",
    "plt.show()\n",
    "\n",
    "#can also do this in seaborn\n",
    "# plt.figure(figsize=(5,3))\n",
    "# sns.set_style(\"whitegrid\")\n",
    "# sns.countplot(x='Gender', data=med, color='pink')\n",
    "# plt.title('Gender Distribution in Dataset')\n",
    "# plt.show()"
   ]
  },
  {
   "cell_type": "code",
   "execution_count": 152,
   "id": "7e5c78e6-1459-4be3-a156-5062c5a1c542",
   "metadata": {},
   "outputs": [
    {
     "data": {
      "image/png": "[encoded data removed]",
      "text/plain": [
       "<Figure size 640x480 with 1 Axes>"
      ]
     },
     "metadata": {},
     "output_type": "display_data"
    }
   ],
   "source": [
    "sns.set_style(\"whitegrid\")\n",
    "sns.countplot(x='Gender', data=med, hue='No-show')\n",
    "plt.title('Correlation b/w gender and appointment show up')\n",
    "plt.show()"
   ]
  },
  {
   "cell_type": "markdown",
   "id": "87ea4f8c-ce72-40b0-97a3-849b1c79c179",
   "metadata": {},
   "source": [
    "#### 2. Does recieving an SMS as a reminder affect whether or not a patient may show up? is it correlated with number of days before the appointment?"
   ]
  },
  {
   "cell_type": "code",
   "execution_count": 79,
   "id": "0289e2c6-c1ca-4fb8-87fd-5fd8fa3b2b70",
   "metadata": {},
   "outputs": [
    {
     "data": {
      "text/html": [
       "<div>\n",
       "<style scoped>\n",
       "    .dataframe tbody tr th:only-of-type {\n",
       "        vertical-align: middle;\n",
       "    }\n",
       "\n",
       "    .dataframe tbody tr th {\n",
       "        vertical-align: top;\n",
       "    }\n",
       "\n",
       "    .dataframe thead th {\n",
       "        text-align: right;\n",
       "    }\n",
       "</style>\n",
       "<table border=\"1\" class=\"dataframe\">\n",
       "  <thead>\n",
       "    <tr style=\"text-align: right;\">\n",
       "      <th></th>\n",
       "      <th>PatientId</th>\n",
       "      <th>Gender</th>\n",
       "      <th>ScheduledDay</th>\n",
       "      <th>AppointmentDay</th>\n",
       "      <th>Age</th>\n",
       "      <th>Neighbourhood</th>\n",
       "      <th>Scholarship</th>\n",
       "      <th>Hipertension</th>\n",
       "      <th>Diabetes</th>\n",
       "      <th>Alcoholism</th>\n",
       "      <th>Handcap</th>\n",
       "      <th>SMS_received</th>\n",
       "      <th>No-show</th>\n",
       "      <th>due days</th>\n",
       "    </tr>\n",
       "  </thead>\n",
       "  <tbody>\n",
       "    <tr>\n",
       "      <th>5</th>\n",
       "      <td>9.598513e+13</td>\n",
       "      <td>F</td>\n",
       "      <td>2016-04-27</td>\n",
       "      <td>2016-04-29</td>\n",
       "      <td>76</td>\n",
       "      <td>REPÚBLICA</td>\n",
       "      <td>no</td>\n",
       "      <td>diagnosed</td>\n",
       "      <td>not diagnosed</td>\n",
       "      <td>not diagnosed</td>\n",
       "      <td>not diagnosed</td>\n",
       "      <td>no</td>\n",
       "      <td>No</td>\n",
       "      <td>2</td>\n",
       "    </tr>\n",
       "    <tr>\n",
       "      <th>6</th>\n",
       "      <td>7.336882e+14</td>\n",
       "      <td>F</td>\n",
       "      <td>2016-04-27</td>\n",
       "      <td>2016-04-29</td>\n",
       "      <td>23</td>\n",
       "      <td>GOIABEIRAS</td>\n",
       "      <td>no</td>\n",
       "      <td>not diagnosed</td>\n",
       "      <td>not diagnosed</td>\n",
       "      <td>not diagnosed</td>\n",
       "      <td>not diagnosed</td>\n",
       "      <td>no</td>\n",
       "      <td>Yes</td>\n",
       "      <td>2</td>\n",
       "    </tr>\n",
       "    <tr>\n",
       "      <th>7</th>\n",
       "      <td>3.449833e+12</td>\n",
       "      <td>F</td>\n",
       "      <td>2016-04-27</td>\n",
       "      <td>2016-04-29</td>\n",
       "      <td>39</td>\n",
       "      <td>GOIABEIRAS</td>\n",
       "      <td>no</td>\n",
       "      <td>not diagnosed</td>\n",
       "      <td>not diagnosed</td>\n",
       "      <td>not diagnosed</td>\n",
       "      <td>not diagnosed</td>\n",
       "      <td>no</td>\n",
       "      <td>Yes</td>\n",
       "      <td>2</td>\n",
       "    </tr>\n",
       "    <tr>\n",
       "      <th>9</th>\n",
       "      <td>7.812456e+13</td>\n",
       "      <td>F</td>\n",
       "      <td>2016-04-27</td>\n",
       "      <td>2016-04-29</td>\n",
       "      <td>19</td>\n",
       "      <td>CONQUISTA</td>\n",
       "      <td>no</td>\n",
       "      <td>not diagnosed</td>\n",
       "      <td>not diagnosed</td>\n",
       "      <td>not diagnosed</td>\n",
       "      <td>not diagnosed</td>\n",
       "      <td>no</td>\n",
       "      <td>No</td>\n",
       "      <td>2</td>\n",
       "    </tr>\n",
       "    <tr>\n",
       "      <th>10</th>\n",
       "      <td>7.345362e+14</td>\n",
       "      <td>F</td>\n",
       "      <td>2016-04-27</td>\n",
       "      <td>2016-04-29</td>\n",
       "      <td>30</td>\n",
       "      <td>NOVA PALESTINA</td>\n",
       "      <td>no</td>\n",
       "      <td>not diagnosed</td>\n",
       "      <td>not diagnosed</td>\n",
       "      <td>not diagnosed</td>\n",
       "      <td>not diagnosed</td>\n",
       "      <td>no</td>\n",
       "      <td>No</td>\n",
       "      <td>2</td>\n",
       "    </tr>\n",
       "  </tbody>\n",
       "</table>\n",
       "</div>"
      ],
      "text/plain": [
       "       PatientId Gender ScheduledDay AppointmentDay  Age   Neighbourhood  \\\n",
       "5   9.598513e+13      F   2016-04-27     2016-04-29   76       REPÚBLICA   \n",
       "6   7.336882e+14      F   2016-04-27     2016-04-29   23      GOIABEIRAS   \n",
       "7   3.449833e+12      F   2016-04-27     2016-04-29   39      GOIABEIRAS   \n",
       "9   7.812456e+13      F   2016-04-27     2016-04-29   19       CONQUISTA   \n",
       "10  7.345362e+14      F   2016-04-27     2016-04-29   30  NOVA PALESTINA   \n",
       "\n",
       "   Scholarship   Hipertension       Diabetes     Alcoholism        Handcap  \\\n",
       "5           no      diagnosed  not diagnosed  not diagnosed  not diagnosed   \n",
       "6           no  not diagnosed  not diagnosed  not diagnosed  not diagnosed   \n",
       "7           no  not diagnosed  not diagnosed  not diagnosed  not diagnosed   \n",
       "9           no  not diagnosed  not diagnosed  not diagnosed  not diagnosed   \n",
       "10          no  not diagnosed  not diagnosed  not diagnosed  not diagnosed   \n",
       "\n",
       "   SMS_received No-show  due days  \n",
       "5            no      No         2  \n",
       "6            no     Yes         2  \n",
       "7            no     Yes         2  \n",
       "9            no      No         2  \n",
       "10           no      No         2  "
      ]
     },
     "execution_count": 79,
     "metadata": {},
     "output_type": "execute_result"
    }
   ],
   "source": [
    "med['SMS_received'].value_counts()\n",
    "med.head()"
   ]
  },
  {
   "cell_type": "code",
   "execution_count": 80,
   "id": "4b2ab38d-4f7b-4376-97ed-4e40c28a9b19",
   "metadata": {},
   "outputs": [
    {
     "name": "stdout",
     "output_type": "stream",
     "text": [
      "Number of Patients that were sent SMS and showed up: 6271\n",
      "Number of Patients that were not sent SMS and showed up: 6853\n"
     ]
    }
   ],
   "source": [
    "sent_came = med[(med['SMS_received']=='yes') & (med['No-show']=='Yes')]['PatientId'].count()\n",
    "notsent_came = med[(med['SMS_received']=='no') & (med['No-show']=='Yes')]['PatientId'].count()\n",
    "\n",
    "print(\"Number of Patients that were sent SMS and showed up:\", sent_came)\n",
    "print(\"Number of Patients that were not sent SMS and showed up:\", notsent_came)"
   ]
  },
  {
   "cell_type": "code",
   "execution_count": 82,
   "id": "14d58272-5c93-41b1-93dd-334b2d2fff24",
   "metadata": {},
   "outputs": [],
   "source": [
    "total_patients = med['PatientId'].count()"
   ]
  },
  {
   "cell_type": "code",
   "execution_count": 86,
   "id": "ce87c83c-b0f6-4a17-9e3d-e49a9b8fd74f",
   "metadata": {},
   "outputs": [
    {
     "data": {
      "text/plain": [
       "(13.680191972076788, 14.949825479930192)"
      ]
     },
     "execution_count": 86,
     "metadata": {},
     "output_type": "execute_result"
    }
   ],
   "source": [
    "sms_show_up = sent_came/total_patients * 100\n",
    "no_sms_show_up = notsent_came/total_patients * 100\n",
    "\n",
    "sms_show_up, no_sms_show_up"
   ]
  },
  {
   "cell_type": "markdown",
   "id": "49d6d4b2-483c-4498-b384-e72454098c5a",
   "metadata": {},
   "source": [
    "The percentage of patients that showed up without a sms (nearly 15%) is greater than the percentage of women who showed up with an sms (about 14%). Receiving an SMS as a reminder may not be a huge factor for patients to show up."
   ]
  },
  {
   "cell_type": "markdown",
   "id": "7c75215e-a71b-4c97-86ff-084004260832",
   "metadata": {},
   "source": [
    "##### Correlated with number of days before appointment?"
   ]
  },
  {
   "cell_type": "code",
   "execution_count": 89,
   "id": "24aaab40-deb2-4ab7-b543-94a2598d0a89",
   "metadata": {},
   "outputs": [
    {
     "data": {
      "image/png": "[encoded data removed]",
      "text/plain": [
       "<Figure size 640x480 with 1 Axes>"
      ]
     },
     "metadata": {},
     "output_type": "display_data"
    }
   ],
   "source": [
    "sns.boxplot(x='No-show', y='due days', data=med, showfliers=False)\n",
    "plt.title('Correlationship b/w no-show and due-days')\n",
    "plt.show()"
   ]
  },
  {
   "cell_type": "markdown",
   "id": "8bdb3157-44e3-4869-ba7f-1f1f23693434",
   "metadata": {},
   "source": [
    "It is clear that patients with appointments from 0-30 days tend to show up more often than patients with apppointments beyond those 30 days."
   ]
  },
  {
   "cell_type": "markdown",
   "id": "a48f8657-6c66-460c-9f48-751eb2d58da6",
   "metadata": {},
   "source": [
    "#### 3. Does having a scholarship affects showing up on a hospital appointment? What are the age groups affected by this?"
   ]
  },
  {
   "cell_type": "code",
   "execution_count": 93,
   "id": "f33d3b1b-8179-4833-98cc-e80c866e7d74",
   "metadata": {},
   "outputs": [
    {
     "data": {
      "text/html": [
       "<div>\n",
       "<style scoped>\n",
       "    .dataframe tbody tr th:only-of-type {\n",
       "        vertical-align: middle;\n",
       "    }\n",
       "\n",
       "    .dataframe tbody tr th {\n",
       "        vertical-align: top;\n",
       "    }\n",
       "\n",
       "    .dataframe thead th {\n",
       "        text-align: right;\n",
       "    }\n",
       "</style>\n",
       "<table border=\"1\" class=\"dataframe\">\n",
       "  <thead>\n",
       "    <tr style=\"text-align: right;\">\n",
       "      <th></th>\n",
       "      <th>PatientId</th>\n",
       "      <th>Gender</th>\n",
       "      <th>ScheduledDay</th>\n",
       "      <th>AppointmentDay</th>\n",
       "      <th>Age</th>\n",
       "      <th>Neighbourhood</th>\n",
       "      <th>Scholarship</th>\n",
       "      <th>Hipertension</th>\n",
       "      <th>Diabetes</th>\n",
       "      <th>Alcoholism</th>\n",
       "      <th>Handcap</th>\n",
       "      <th>SMS_received</th>\n",
       "      <th>No-show</th>\n",
       "      <th>due days</th>\n",
       "    </tr>\n",
       "  </thead>\n",
       "  <tbody>\n",
       "    <tr>\n",
       "      <th>5</th>\n",
       "      <td>9.598513e+13</td>\n",
       "      <td>F</td>\n",
       "      <td>2016-04-27</td>\n",
       "      <td>2016-04-29</td>\n",
       "      <td>76</td>\n",
       "      <td>REPÚBLICA</td>\n",
       "      <td>no</td>\n",
       "      <td>diagnosed</td>\n",
       "      <td>not diagnosed</td>\n",
       "      <td>not diagnosed</td>\n",
       "      <td>not diagnosed</td>\n",
       "      <td>no</td>\n",
       "      <td>No</td>\n",
       "      <td>2</td>\n",
       "    </tr>\n",
       "    <tr>\n",
       "      <th>6</th>\n",
       "      <td>7.336882e+14</td>\n",
       "      <td>F</td>\n",
       "      <td>2016-04-27</td>\n",
       "      <td>2016-04-29</td>\n",
       "      <td>23</td>\n",
       "      <td>GOIABEIRAS</td>\n",
       "      <td>no</td>\n",
       "      <td>not diagnosed</td>\n",
       "      <td>not diagnosed</td>\n",
       "      <td>not diagnosed</td>\n",
       "      <td>not diagnosed</td>\n",
       "      <td>no</td>\n",
       "      <td>Yes</td>\n",
       "      <td>2</td>\n",
       "    </tr>\n",
       "    <tr>\n",
       "      <th>7</th>\n",
       "      <td>3.449833e+12</td>\n",
       "      <td>F</td>\n",
       "      <td>2016-04-27</td>\n",
       "      <td>2016-04-29</td>\n",
       "      <td>39</td>\n",
       "      <td>GOIABEIRAS</td>\n",
       "      <td>no</td>\n",
       "      <td>not diagnosed</td>\n",
       "      <td>not diagnosed</td>\n",
       "      <td>not diagnosed</td>\n",
       "      <td>not diagnosed</td>\n",
       "      <td>no</td>\n",
       "      <td>Yes</td>\n",
       "      <td>2</td>\n",
       "    </tr>\n",
       "    <tr>\n",
       "      <th>9</th>\n",
       "      <td>7.812456e+13</td>\n",
       "      <td>F</td>\n",
       "      <td>2016-04-27</td>\n",
       "      <td>2016-04-29</td>\n",
       "      <td>19</td>\n",
       "      <td>CONQUISTA</td>\n",
       "      <td>no</td>\n",
       "      <td>not diagnosed</td>\n",
       "      <td>not diagnosed</td>\n",
       "      <td>not diagnosed</td>\n",
       "      <td>not diagnosed</td>\n",
       "      <td>no</td>\n",
       "      <td>No</td>\n",
       "      <td>2</td>\n",
       "    </tr>\n",
       "    <tr>\n",
       "      <th>10</th>\n",
       "      <td>7.345362e+14</td>\n",
       "      <td>F</td>\n",
       "      <td>2016-04-27</td>\n",
       "      <td>2016-04-29</td>\n",
       "      <td>30</td>\n",
       "      <td>NOVA PALESTINA</td>\n",
       "      <td>no</td>\n",
       "      <td>not diagnosed</td>\n",
       "      <td>not diagnosed</td>\n",
       "      <td>not diagnosed</td>\n",
       "      <td>not diagnosed</td>\n",
       "      <td>no</td>\n",
       "      <td>No</td>\n",
       "      <td>2</td>\n",
       "    </tr>\n",
       "  </tbody>\n",
       "</table>\n",
       "</div>"
      ],
      "text/plain": [
       "       PatientId Gender ScheduledDay AppointmentDay  Age   Neighbourhood  \\\n",
       "5   9.598513e+13      F   2016-04-27     2016-04-29   76       REPÚBLICA   \n",
       "6   7.336882e+14      F   2016-04-27     2016-04-29   23      GOIABEIRAS   \n",
       "7   3.449833e+12      F   2016-04-27     2016-04-29   39      GOIABEIRAS   \n",
       "9   7.812456e+13      F   2016-04-27     2016-04-29   19       CONQUISTA   \n",
       "10  7.345362e+14      F   2016-04-27     2016-04-29   30  NOVA PALESTINA   \n",
       "\n",
       "   Scholarship   Hipertension       Diabetes     Alcoholism        Handcap  \\\n",
       "5           no      diagnosed  not diagnosed  not diagnosed  not diagnosed   \n",
       "6           no  not diagnosed  not diagnosed  not diagnosed  not diagnosed   \n",
       "7           no  not diagnosed  not diagnosed  not diagnosed  not diagnosed   \n",
       "9           no  not diagnosed  not diagnosed  not diagnosed  not diagnosed   \n",
       "10          no  not diagnosed  not diagnosed  not diagnosed  not diagnosed   \n",
       "\n",
       "   SMS_received No-show  due days  \n",
       "5            no      No         2  \n",
       "6            no     Yes         2  \n",
       "7            no     Yes         2  \n",
       "9            no      No         2  \n",
       "10           no      No         2  "
      ]
     },
     "execution_count": 93,
     "metadata": {},
     "output_type": "execute_result"
    }
   ],
   "source": [
    "med.head()"
   ]
  },
  {
   "cell_type": "code",
   "execution_count": 121,
   "id": "577bd4a5-b78e-4532-a0ac-5ec7460d1312",
   "metadata": {},
   "outputs": [
    {
     "data": {
      "text/plain": [
       "(2675, 30041)"
      ]
     },
     "execution_count": 121,
     "metadata": {},
     "output_type": "execute_result"
    }
   ],
   "source": [
    "yes_show = med[(med['Scholarship']=='yes') & (med['No-show']=='No')]['PatientId'].count()\n",
    "no_show = med[(med['Scholarship']=='no') & (med['No-show']=='No')]['PatientId'].count() \n",
    "total_scholarships = med['PatientId'].count() \n",
    "yes_show, no_show"
   ]
  },
  {
   "cell_type": "code",
   "execution_count": 123,
   "id": "7ed566e9-2c45-469a-9c39-bd6aadd128ad",
   "metadata": {},
   "outputs": [
    {
     "name": "stdout",
     "output_type": "stream",
     "text": [
      "Percent of people who had scholarships and showed up to hospital appt: 5.84 %\n",
      "Percent of people who did not have a scholarships and still showed up to hospital appt: 65.53 %\n"
     ]
    }
   ],
   "source": [
    "percent_show = round((yes_show/total_scholarships)*100,2)\n",
    "percent_noshow = round((no_show/total_scholarships)*100,2)\n",
    "\n",
    "print(\"Percent of people who had scholarships and showed up to hospital appt:\", percent_show, \"%\")\n",
    "print(\"Percent of people who did not have a scholarships and still showed up to hospital appt:\", percent_noshow, \"%\")"
   ]
  },
  {
   "cell_type": "markdown",
   "id": "42889ab1-9930-4e95-a61d-8856823f53f4",
   "metadata": {},
   "source": [
    "Since 65% of all patients did not have a scholarship but still showed up to the appointment compared to only 5% of people who had a scholarship and showed up to the appointmnet, having a scholarship does not have a significant affect on showing up to an appointment. "
   ]
  },
  {
   "cell_type": "markdown",
   "id": "c0914a55-2bae-427a-92c6-87bae627340f",
   "metadata": {},
   "source": [
    "##### Age Group Correlation"
   ]
  },
  {
   "cell_type": "code",
   "execution_count": 128,
   "id": "ffba7cd5-4f9e-4581-aad3-6387de3926a8",
   "metadata": {},
   "outputs": [
    {
     "data": {
      "text/plain": [
       "<Axes: >"
      ]
     },
     "execution_count": 128,
     "metadata": {},
     "output_type": "execute_result"
    },
    {
     "data": {
      "image/png": "[encoded data removed]",
      "text/plain": [
       "<Figure size 640x480 with 1 Axes>"
      ]
     },
     "metadata": {},
     "output_type": "display_data"
    }
   ],
   "source": [
    "med['Age'].hist()"
   ]
  },
  {
   "cell_type": "code",
   "execution_count": 132,
   "id": "37084d03-50d3-4634-b455-23f6ab03e80b",
   "metadata": {},
   "outputs": [
    {
     "data": {
      "image/png": "[encoded data removed]",
      "text/plain": [
       "<Figure size 640x480 with 1 Axes>"
      ]
     },
     "metadata": {},
     "output_type": "display_data"
    }
   ],
   "source": [
    "sns.boxplot(x='Scholarship', y='Age', data=med)\n",
    "plt.title(\"Correlation b/w Scholarship & Age\")\n",
    "plt.show()"
   ]
  },
  {
   "cell_type": "code",
   "execution_count": 136,
   "id": "00a65953-b6be-4c82-80fe-8e079d70b043",
   "metadata": {},
   "outputs": [
    {
     "data": {
      "text/html": [
       "<div>\n",
       "<style scoped>\n",
       "    .dataframe tbody tr th:only-of-type {\n",
       "        vertical-align: middle;\n",
       "    }\n",
       "\n",
       "    .dataframe tbody tr th {\n",
       "        vertical-align: top;\n",
       "    }\n",
       "\n",
       "    .dataframe thead th {\n",
       "        text-align: right;\n",
       "    }\n",
       "</style>\n",
       "<table border=\"1\" class=\"dataframe\">\n",
       "  <thead>\n",
       "    <tr style=\"text-align: right;\">\n",
       "      <th></th>\n",
       "      <th>count</th>\n",
       "      <th>mean</th>\n",
       "      <th>std</th>\n",
       "      <th>min</th>\n",
       "      <th>25%</th>\n",
       "      <th>50%</th>\n",
       "      <th>75%</th>\n",
       "      <th>max</th>\n",
       "    </tr>\n",
       "    <tr>\n",
       "      <th>Scholarship</th>\n",
       "      <th></th>\n",
       "      <th></th>\n",
       "      <th></th>\n",
       "      <th></th>\n",
       "      <th></th>\n",
       "      <th></th>\n",
       "      <th></th>\n",
       "      <th></th>\n",
       "    </tr>\n",
       "  </thead>\n",
       "  <tbody>\n",
       "    <tr>\n",
       "      <th>no</th>\n",
       "      <td>41731.0</td>\n",
       "      <td>38.769620</td>\n",
       "      <td>23.788588</td>\n",
       "      <td>0.0</td>\n",
       "      <td>19.0</td>\n",
       "      <td>40.0</td>\n",
       "      <td>58.0</td>\n",
       "      <td>115.0</td>\n",
       "    </tr>\n",
       "    <tr>\n",
       "      <th>yes</th>\n",
       "      <td>4109.0</td>\n",
       "      <td>30.848625</td>\n",
       "      <td>17.368829</td>\n",
       "      <td>0.0</td>\n",
       "      <td>16.0</td>\n",
       "      <td>32.0</td>\n",
       "      <td>43.0</td>\n",
       "      <td>84.0</td>\n",
       "    </tr>\n",
       "  </tbody>\n",
       "</table>\n",
       "</div>"
      ],
      "text/plain": [
       "               count       mean        std  min   25%   50%   75%    max\n",
       "Scholarship                                                             \n",
       "no           41731.0  38.769620  23.788588  0.0  19.0  40.0  58.0  115.0\n",
       "yes           4109.0  30.848625  17.368829  0.0  16.0  32.0  43.0   84.0"
      ]
     },
     "execution_count": 136,
     "metadata": {},
     "output_type": "execute_result"
    }
   ],
   "source": [
    "med.groupby('Scholarship')['Age'].describe()"
   ]
  },
  {
   "cell_type": "markdown",
   "id": "d1fbb75a-1f4b-4291-a014-603118200f99",
   "metadata": {},
   "source": [
    "The average age of patients who did not receive a scholarship is around 40 years while the average age of those who received is around 30."
   ]
  },
  {
   "cell_type": "markdown",
   "id": "4df5b445-07d0-4902-a13b-ec619cb0b35f",
   "metadata": {},
   "source": [
    "#### 4. Does having certain diseases affect whether or not a patient may show up to their appointment?"
   ]
  },
  {
   "cell_type": "code",
   "execution_count": 156,
   "id": "fcff7eaf-88f5-4c2b-8ea9-a7f65500c753",
   "metadata": {},
   "outputs": [
    {
     "data": {
      "text/html": [
       "<div>\n",
       "<style scoped>\n",
       "    .dataframe tbody tr th:only-of-type {\n",
       "        vertical-align: middle;\n",
       "    }\n",
       "\n",
       "    .dataframe tbody tr th {\n",
       "        vertical-align: top;\n",
       "    }\n",
       "\n",
       "    .dataframe thead th {\n",
       "        text-align: right;\n",
       "    }\n",
       "</style>\n",
       "<table border=\"1\" class=\"dataframe\">\n",
       "  <thead>\n",
       "    <tr style=\"text-align: right;\">\n",
       "      <th></th>\n",
       "      <th>PatientId</th>\n",
       "      <th>Gender</th>\n",
       "      <th>ScheduledDay</th>\n",
       "      <th>AppointmentDay</th>\n",
       "      <th>Age</th>\n",
       "      <th>Neighbourhood</th>\n",
       "      <th>Scholarship</th>\n",
       "      <th>Hipertension</th>\n",
       "      <th>Diabetes</th>\n",
       "      <th>Alcoholism</th>\n",
       "      <th>Handcap</th>\n",
       "      <th>SMS_received</th>\n",
       "      <th>No-show</th>\n",
       "      <th>due days</th>\n",
       "    </tr>\n",
       "  </thead>\n",
       "  <tbody>\n",
       "    <tr>\n",
       "      <th>5</th>\n",
       "      <td>9.598513e+13</td>\n",
       "      <td>F</td>\n",
       "      <td>2016-04-27</td>\n",
       "      <td>2016-04-29</td>\n",
       "      <td>76</td>\n",
       "      <td>REPÚBLICA</td>\n",
       "      <td>no</td>\n",
       "      <td>diagnosed</td>\n",
       "      <td>not diagnosed</td>\n",
       "      <td>not diagnosed</td>\n",
       "      <td>not diagnosed</td>\n",
       "      <td>no</td>\n",
       "      <td>No</td>\n",
       "      <td>2</td>\n",
       "    </tr>\n",
       "    <tr>\n",
       "      <th>6</th>\n",
       "      <td>7.336882e+14</td>\n",
       "      <td>F</td>\n",
       "      <td>2016-04-27</td>\n",
       "      <td>2016-04-29</td>\n",
       "      <td>23</td>\n",
       "      <td>GOIABEIRAS</td>\n",
       "      <td>no</td>\n",
       "      <td>not diagnosed</td>\n",
       "      <td>not diagnosed</td>\n",
       "      <td>not diagnosed</td>\n",
       "      <td>not diagnosed</td>\n",
       "      <td>no</td>\n",
       "      <td>Yes</td>\n",
       "      <td>2</td>\n",
       "    </tr>\n",
       "    <tr>\n",
       "      <th>7</th>\n",
       "      <td>3.449833e+12</td>\n",
       "      <td>F</td>\n",
       "      <td>2016-04-27</td>\n",
       "      <td>2016-04-29</td>\n",
       "      <td>39</td>\n",
       "      <td>GOIABEIRAS</td>\n",
       "      <td>no</td>\n",
       "      <td>not diagnosed</td>\n",
       "      <td>not diagnosed</td>\n",
       "      <td>not diagnosed</td>\n",
       "      <td>not diagnosed</td>\n",
       "      <td>no</td>\n",
       "      <td>Yes</td>\n",
       "      <td>2</td>\n",
       "    </tr>\n",
       "    <tr>\n",
       "      <th>9</th>\n",
       "      <td>7.812456e+13</td>\n",
       "      <td>F</td>\n",
       "      <td>2016-04-27</td>\n",
       "      <td>2016-04-29</td>\n",
       "      <td>19</td>\n",
       "      <td>CONQUISTA</td>\n",
       "      <td>no</td>\n",
       "      <td>not diagnosed</td>\n",
       "      <td>not diagnosed</td>\n",
       "      <td>not diagnosed</td>\n",
       "      <td>not diagnosed</td>\n",
       "      <td>no</td>\n",
       "      <td>No</td>\n",
       "      <td>2</td>\n",
       "    </tr>\n",
       "    <tr>\n",
       "      <th>10</th>\n",
       "      <td>7.345362e+14</td>\n",
       "      <td>F</td>\n",
       "      <td>2016-04-27</td>\n",
       "      <td>2016-04-29</td>\n",
       "      <td>30</td>\n",
       "      <td>NOVA PALESTINA</td>\n",
       "      <td>no</td>\n",
       "      <td>not diagnosed</td>\n",
       "      <td>not diagnosed</td>\n",
       "      <td>not diagnosed</td>\n",
       "      <td>not diagnosed</td>\n",
       "      <td>no</td>\n",
       "      <td>No</td>\n",
       "      <td>2</td>\n",
       "    </tr>\n",
       "  </tbody>\n",
       "</table>\n",
       "</div>"
      ],
      "text/plain": [
       "       PatientId Gender ScheduledDay AppointmentDay  Age   Neighbourhood  \\\n",
       "5   9.598513e+13      F   2016-04-27     2016-04-29   76       REPÚBLICA   \n",
       "6   7.336882e+14      F   2016-04-27     2016-04-29   23      GOIABEIRAS   \n",
       "7   3.449833e+12      F   2016-04-27     2016-04-29   39      GOIABEIRAS   \n",
       "9   7.812456e+13      F   2016-04-27     2016-04-29   19       CONQUISTA   \n",
       "10  7.345362e+14      F   2016-04-27     2016-04-29   30  NOVA PALESTINA   \n",
       "\n",
       "   Scholarship   Hipertension       Diabetes     Alcoholism        Handcap  \\\n",
       "5           no      diagnosed  not diagnosed  not diagnosed  not diagnosed   \n",
       "6           no  not diagnosed  not diagnosed  not diagnosed  not diagnosed   \n",
       "7           no  not diagnosed  not diagnosed  not diagnosed  not diagnosed   \n",
       "9           no  not diagnosed  not diagnosed  not diagnosed  not diagnosed   \n",
       "10          no  not diagnosed  not diagnosed  not diagnosed  not diagnosed   \n",
       "\n",
       "   SMS_received No-show  due days  \n",
       "5            no      No         2  \n",
       "6            no     Yes         2  \n",
       "7            no     Yes         2  \n",
       "9            no      No         2  \n",
       "10           no      No         2  "
      ]
     },
     "execution_count": 156,
     "metadata": {},
     "output_type": "execute_result"
    }
   ],
   "source": [
    "med.head()"
   ]
  },
  {
   "cell_type": "code",
   "execution_count": 175,
   "id": "68fa9e1b-2b5d-4ddb-aaf0-236d500a0915",
   "metadata": {},
   "outputs": [
    {
     "name": "stdout",
     "output_type": "stream",
     "text": [
      "Total number of patients diagnosed w/hipertension: 9525\n",
      "Total number of patients diagnosed w/Diabetes: 3366\n",
      "Total number of patients diagnosed w/Alcoholism: 1107\n",
      "Total number of patients diagnosed w/Handicap: 712\n"
     ]
    }
   ],
   "source": [
    "hiper_count = med[med['Hipertension']=='diagnosed']['PatientId'].count()\n",
    "diab_count = med[med['Diabetes']=='diagnosed']['PatientId'].count()\n",
    "alc_count = med[med['Alcoholism']=='diagnosed']['PatientId'].count()\n",
    "hcap_count = med[med['Handcap']=='diagnosed']['PatientId'].count()\n",
    "\n",
    "print(\"Total number of patients diagnosed w/hipertension:\", hiper_count)\n",
    "print(\"Total number of patients diagnosed w/Diabetes:\", diab_count)\n",
    "print(\"Total number of patients diagnosed w/Alcoholism:\", alc_count)\n",
    "print(\"Total number of patients diagnosed w/Handicap:\", hcap_count)"
   ]
  },
  {
   "cell_type": "markdown",
   "id": "61d94bf7-f556-422a-9311-81bb2421b884",
   "metadata": {},
   "source": [
    "##### Patients With Hipertension\n",
    "77% of people with hipertension showed up to appointment while only 23% did not so more often than not, patients with hipertension show up to their doctor appointments."
   ]
  },
  {
   "cell_type": "code",
   "execution_count": 203,
   "id": "d21e6382-64f1-499b-acb4-0f73a5ea742d",
   "metadata": {},
   "outputs": [
    {
     "name": "stdout",
     "output_type": "stream",
     "text": [
      "Percentage of patients diagnosed w/hipertension that showed up to appt: 77.0 %\n",
      "Percentage of patients diagnosed w/hipertension that did not show up to appt: 23.0 %\n"
     ]
    }
   ],
   "source": [
    "show_hiper = med[(med['Hipertension']=='diagnosed') & (med['No-show']=='No')]['PatientId'].count()\n",
    "noshow_hiper = med[(med['Hipertension']=='diagnosed') & (med['No-show']=='Yes')]['PatientId'].count()\n",
    "\n",
    "show_hiper_perc = round((show_hiper/hiper_count)*100,2)\n",
    "noshow_hiper_perc = round((noshow_hiper/hiper_count)*100,2)\n",
    "\n",
    "print(\"Percentage of patients diagnosed w/hipertension that showed up to appt:\", show_hiper_perc, \"%\")\n",
    "print(\"Percentage of patients diagnosed w/hipertension that did not show up to appt:\", noshow_hiper_perc, \"%\")"
   ]
  },
  {
   "cell_type": "markdown",
   "id": "cb8e7f09-4d84-4b2f-b228-3c06720dc3a1",
   "metadata": {},
   "source": [
    "##### Patients With Diabetes\n",
    "75% of people with diabetes showed up to appointment while only 25% did not so more often than not, patients with diabetes show up to their doctor appointments."
   ]
  },
  {
   "cell_type": "code",
   "execution_count": 219,
   "id": "fa2d9c25-3f08-46bd-af94-e48dec5ee45e",
   "metadata": {},
   "outputs": [
    {
     "name": "stdout",
     "output_type": "stream",
     "text": [
      "Percentage of patients diagnosed w/Diabetes that showed up to appt: 75.01 %\n",
      "Percentage of patients diagnosed w/Diabetes that did not show up to appt: 24.99 %\n"
     ]
    }
   ],
   "source": [
    "show_diab = med[(med['Diabetes']=='diagnosed') & (med['No-show']=='No')]['PatientId'].count()\n",
    "noshow_diab = med[(med['Diabetes']=='diagnosed') & (med['No-show']=='Yes')]['PatientId'].count()\n",
    "\n",
    "show_diab_perc = round((show_diab/diab_count)*100,2)\n",
    "noshow_diab_perc = round((noshow_diab/diab_count)*100,2)\n",
    "\n",
    "print(\"Percentage of patients diagnosed w/Diabetes that showed up to appt:\", show_diab_perc, \"%\")\n",
    "print(\"Percentage of patients diagnosed w/Diabetes that did not show up to appt:\", noshow_diab_perc, \"%\")"
   ]
  },
  {
   "cell_type": "markdown",
   "id": "904a1820-1db2-4cd3-beb0-b0f6c4fcad97",
   "metadata": {},
   "source": [
    "##### Patients w/Alcoholism\n",
    "65% of people with alcoholism showed up to appointment while only 35% did not so more often than not, patients with alcoholism show up to their doctor appointments."
   ]
  },
  {
   "cell_type": "code",
   "execution_count": 225,
   "id": "6b43ffaf-a1f7-44ee-a4f2-53d863e926e3",
   "metadata": {},
   "outputs": [
    {
     "name": "stdout",
     "output_type": "stream",
     "text": [
      "Percentage of patients diagnosed w/Alcoholism that showed up to appt: 65.13 %\n",
      "Percentage of patients diagnosed w/Alcoholism that did not show up to appt: 34.87 %\n"
     ]
    }
   ],
   "source": [
    "show_alc = med[(med['Alcoholism']=='diagnosed') & (med['No-show']=='No')]['PatientId'].count()\n",
    "noshow_alc = med[(med['Alcoholism']=='diagnosed') & (med['No-show']=='Yes')]['PatientId'].count()\n",
    "\n",
    "show_alc_perc = round((show_alc/alc_count)*100,2)\n",
    "noshow_alc_perc = round((noshow_alc/alc_count)*100,2)\n",
    "\n",
    "print(\"Percentage of patients diagnosed w/Alcoholism that showed up to appt:\", show_alc_perc, \"%\")\n",
    "print(\"Percentage of patients diagnosed w/Alcoholism that did not show up to appt:\", noshow_alc_perc, \"%\")"
   ]
  },
  {
   "cell_type": "markdown",
   "id": "098fa4e3-497a-45d3-9cd1-bc77e9b4ea34",
   "metadata": {},
   "source": [
    "##### Patients w/Handicap\n",
    "76% of people who are handicapped showed up to appointment while only 23% did not so more often than not, handicapped patients show up to their doctor appointments."
   ]
  },
  {
   "cell_type": "code",
   "execution_count": 228,
   "id": "5ed97666-b590-46f5-a1b1-0c831d35b96f",
   "metadata": {},
   "outputs": [
    {
     "name": "stdout",
     "output_type": "stream",
     "text": [
      "Percentage of patients diagnosed w/Handicap that showed up to appt: 76.83 %\n",
      "Percentage of patients diagnosed w/Handicap that did not show up to appt: 23.17 %\n"
     ]
    }
   ],
   "source": [
    "show_hcap = med[(med['Handcap']=='diagnosed') & (med['No-show']=='No')]['PatientId'].count()\n",
    "noshow_hcap = med[(med['Handcap']=='diagnosed') & (med['No-show']=='Yes')]['PatientId'].count()\n",
    "\n",
    "show_hcap_perc = round((show_hcap/hcap_count)*100,2)\n",
    "noshow_hcap_perc = round((noshow_hcap/hcap_count)*100,2)\n",
    "\n",
    "print(\"Percentage of patients diagnosed w/Handicap that showed up to appt:\", show_hcap_perc, \"%\")\n",
    "print(\"Percentage of patients diagnosed w/Handicap that did not show up to appt:\", noshow_hcap_perc, \"%\")"
   ]
  },
  {
   "cell_type": "markdown",
   "id": "4496a5f0-4f13-48f6-af1f-26f1463cf590",
   "metadata": {},
   "source": [
    "#### Visualizations"
   ]
  },
  {
   "cell_type": "code",
   "execution_count": 211,
   "id": "1adaef76-a18d-45fb-aae3-e9237a357d7a",
   "metadata": {},
   "outputs": [
    {
     "data": {
      "text/plain": [
       "<Axes: xlabel='Handcap', ylabel='count'>"
      ]
     },
     "execution_count": 211,
     "metadata": {},
     "output_type": "execute_result"
    },
    {
     "data": {
      "image/png": "[encoded data removed]",
      "text/plain": [
       "<Figure size 1500x1000 with 4 Axes>"
      ]
     },
     "metadata": {},
     "output_type": "display_data"
    }
   ],
   "source": [
    "plt.figure(figsize=(15,10))\n",
    "plt.subplot(2,2,1)\n",
    "sns.countplot(x='Hipertension', data=med, hue='No-show')\n",
    "plt.subplot(2,2,2)\n",
    "sns.countplot(x='Diabetes', data=med, hue='No-show')\n",
    "plt.subplot(2,2,3)\n",
    "sns.countplot(x='Alcoholism', data=med, hue='No-show')\n",
    "plt.subplot(2,2,4)\n",
    "sns.countplot(x='Handcap', data=med, hue='No-show')"
   ]
  },
  {
   "cell_type": "markdown",
   "id": "f0c8724f-c4d3-4124-a2b2-e6fcfc25bbf7",
   "metadata": {},
   "source": [
    "##### The above visualizations display how different diseases affect whether a patient shows up to their appointment or not."
   ]
  }
 ],
 "metadata": {
  "kernelspec": {
   "display_name": "Python [conda env:base] *",
   "language": "python",
   "name": "conda-base-py"
  },
  "language_info": {
   "codemirror_mode": {
    "name": "ipython",
    "version": 3
   },
   "file_extension": ".py",
   "mimetype": "text/x-python",
   "name": "python",
   "nbconvert_exporter": "python",
   "pygments_lexer": "ipython3",
   "version": "3.12.7"
  }
 },
 "nbformat": 4,
 "nbformat_minor": 5
}
